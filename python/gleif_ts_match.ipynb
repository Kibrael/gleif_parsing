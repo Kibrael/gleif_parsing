{
 "cells": [
  {
   "cell_type": "code",
   "execution_count": null,
   "metadata": {},
   "outputs": [],
   "source": [
    "import pandas as pd\n",
    "from fuzzywuzzy import fuzz\n",
    "from fuzzywuzzy import process\n",
    "from IPython.core.display import display, HTML\n",
    "#set display options for pandas dataframes\n",
    "pd.set_option('display.max_rows', 500)\n",
    "pd.set_option('display.max_columns', 500)\n",
    "display(HTML(\"<style>.container { width:100% !important; }</style>\"))\n",
    "local_path = \"/Users/roellk/HMDA/gleif/gleif_parsing/\""
   ]
  },
  {
   "cell_type": "code",
   "execution_count": null,
   "metadata": {},
   "outputs": [],
   "source": [
    "#load GLEIF LEI list\n",
    "gleif_df = pd.read_csv(local_path+\"data/lei_info.txt\", sep=\"|\", dtype=\"object\")\n",
    "fill_cols = [\"legal_city\", \"legal_name\", \"hq_city\", \"hq_country\"]\n",
    "gleif_df.fillna(\"-1\", inplace=True)\n",
    "gleif_df = gleif_df[gleif_df.legal_country==\"US\"] #filter for only US companies to speed matching\n",
    "#split legal region to capture only 2 digit state code EG: MT\n",
    "gleif_df['state'] = gleif_df.legal_region.apply(lambda x: x[-2:] if x != \"-1\" else \"\")\n",
    "gleif_df[gleif_df.state!=\"\"].state.head() #check output"
   ]
  },
  {
   "cell_type": "code",
   "execution_count": null,
   "metadata": {},
   "outputs": [],
   "source": [
    "#load NIC IDs (this is panel with addresses pulled from NIC)\n",
    "ts_data = pd.read_csv(local_path+\"data/ts_addresses.csv\", sep=\",\", dtype=\"object\")\n",
    "ts_data.columns = [\"institution_id\", \"agency\", \"rid\", \"name\", \"state\", \"city\", \"ts_address\", \"ts_city\", \"ts_state\"]\n",
    "ts_data.fillna(\"-1\", inplace=True)\n",
    "print(len(ts_data))\n",
    "ts_data.dtypes\n"
   ]
  },
  {
   "cell_type": "code",
   "execution_count": null,
   "metadata": {},
   "outputs": [],
   "source": [
    "# create column with name, address, city, state to match to gleif\n",
    "ts_data['match_string'] = ts_data.apply(lambda x: str(x.name) + \" \" + str(x.ts_city) + \" \" + str(x.ts_state) + \" \" + str(x.ts_address), axis=1)\n",
    "ts_data.head()"
   ]
  },
  {
   "cell_type": "code",
   "execution_count": null,
   "metadata": {},
   "outputs": [],
   "source": [
    "#gleif: legal_name, legal_city, legal_region[-2], legal_street1\n",
    "gleif_df['match_string_gleif'] = gleif_df.apply(lambda x: x.legal_name + \" \" + x.legal_city + \" \" +\n",
    "                                               x.state + \" \" + x.legal_street1, axis=1)\n",
    "\n"
   ]
  },
  {
   "cell_type": "code",
   "execution_count": null,
   "metadata": {},
   "outputs": [],
   "source": [
    "count = 0\n",
    "ts_data[\"match_tup\"] = \"\"\n",
    "for index, row in ts_data[ts_data.match_string!=\"-1 -1 -1 -1\"].iterrows():\n",
    "    print(index, row.match_string)\n",
    "    #match_output = row.apply(lambda x: process.extractOne(x.match_string, gleif_df.match_string_gleif))\n",
    "    match_output = process.extractOne(ts_data.at[index, \"match_string\"], gleif_df.match_string_gleif)\n",
    "    #print(ts_data.at[index, \"match_string\"])\n",
    "    ts_data.at[index, \"match_tup\"] = match_output\n",
    "    \n",
    "    if count % 10 == 0 and count >=10:\n",
    "        ts_data.to_csv(\"../output/ts_results_\"+str(count)+\".txt\", sep=\"|\", index=False)\n",
    "        print(\"saving {count}\".format(count=count))"
   ]
  },
  {
   "cell_type": "code",
   "execution_count": null,
   "metadata": {},
   "outputs": [],
   "source": [
    "ts_data.to_csv(\"../output/ts_match.txt\", sep=\"|\", index=False)"
   ]
  },
  {
   "cell_type": "code",
   "execution_count": null,
   "metadata": {},
   "outputs": [],
   "source": [
    "#split ts_data match tuple\n",
    "#get LEI by index\n",
    "#sort by match score, 95 is approximate low end\n"
   ]
  }
 ],
 "metadata": {
  "kernelspec": {
   "display_name": "Python 3",
   "language": "python",
   "name": "python3"
  },
  "language_info": {
   "codemirror_mode": {
    "name": "ipython",
    "version": 3
   },
   "file_extension": ".py",
   "mimetype": "text/x-python",
   "name": "python",
   "nbconvert_exporter": "python",
   "pygments_lexer": "ipython3",
   "version": "3.6.5"
  }
 },
 "nbformat": 4,
 "nbformat_minor": 2
}
